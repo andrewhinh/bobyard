{
 "cells": [
  {
   "cell_type": "code",
   "execution_count": 1,
   "metadata": {},
   "outputs": [],
   "source": [
    "# File paths \n",
    "\n",
    "data_dir = './Firefighting-Device-Detection-6'\n",
    "model_path = \"checkpoint_100.tar\""
   ]
  },
  {
   "cell_type": "code",
   "execution_count": null,
   "metadata": {},
   "outputs": [],
   "source": [
    "\n",
    "%pip install ipykernel==6.29.4\n",
    "%pip install python-dotenv==1.0.1\n",
    "%pip install simclr==1.0.2\n",
    "%pip install roboflow==1.1.27\n",
    "%pip install lightning==2.2.2\n",
    "%pip install ipywidgets==8.1.2\n",
    "\n",
    "!wget https://github.com/Spijkervet/SimCLR/releases/download/1.2/$model_path"
   ]
  },
  {
   "cell_type": "code",
   "execution_count": 2,
   "metadata": {},
   "outputs": [],
   "source": [
    "# Config: https://github.com/Spijkervet/SimCLR/blob/master/config/config.yaml\n",
    "\n",
    "config = {\n",
    "    \"image_size\": 224,\n",
    "    \"workers\": 8,\n",
    "    \"resnet\": \"resnet50\",\n",
    "    \"projection_dim\": 64,\n",
    "    \"max_boxes\": 50,\n",
    "    \"trials\": 5,\n",
    "    \"epochs\": 5,\n",
    "    \"batch_size\": [2, 64],\n",
    "    \"weight_decay\": [1e-8, 1e2],\n",
    "}"
   ]
  },
  {
   "cell_type": "code",
   "execution_count": 3,
   "metadata": {},
   "outputs": [],
   "source": [
    "# Fixed SimCLR transforms: https://github.com/Spijkervet/SimCLR/blob/master/simclr/modules/transformations/simclr.py\n",
    "\n",
    "import torchvision\n",
    "\n",
    "\n",
    "class TransformsSimCLR:\n",
    "    \"\"\"\n",
    "    A stochastic data augmentation module that transforms any given data example randomly\n",
    "    resulting in two correlated views of the same example,\n",
    "    denoted x ̃i and x ̃j, which we consider as a positive pair.\n",
    "    \"\"\"\n",
    "\n",
    "    def __init__(self, size):\n",
    "        s = 1\n",
    "        color_jitter = torchvision.transforms.ColorJitter(\n",
    "            0.8 * s, 0.8 * s, 0.8 * s, 0.2 * s\n",
    "        )\n",
    "        self.train_transform = torchvision.transforms.Compose(\n",
    "            [\n",
    "                torchvision.transforms.RandomResizedCrop(size=size),\n",
    "                torchvision.transforms.RandomHorizontalFlip(),  # with 0.5 probability\n",
    "                torchvision.transforms.RandomApply([color_jitter], p=0.8),\n",
    "                torchvision.transforms.RandomGrayscale(p=0.2),\n",
    "                torchvision.transforms.ToTensor(),\n",
    "            ]\n",
    "        )\n",
    "\n",
    "        self.test_transform = torchvision.transforms.Compose(\n",
    "            [\n",
    "                torchvision.transforms.Resize(size=(size, size)),  # Single int didn't work\n",
    "                torchvision.transforms.ToTensor(),\n",
    "            ]\n",
    "        )\n",
    "\n",
    "    def __call__(self, x):\n",
    "        return self.train_transform(x), self.train_transform(x)"
   ]
  },
  {
   "cell_type": "code",
   "execution_count": 4,
   "metadata": {},
   "outputs": [],
   "source": [
    "import glob\n",
    "import torch\n",
    "from torch.utils.data import Dataset, DataLoader\n",
    "from PIL import Image\n",
    "import lightning as L\n",
    "from roboflow import Roboflow\n",
    "from dotenv import load_dotenv\n",
    "import os\n",
    "import yaml\n",
    "load_dotenv()\n",
    "\n",
    "\n",
    "class DetectionDataset(Dataset):\n",
    "    def __init__(self, split, transform):\n",
    "        path = os.path.join(data_dir, split)\n",
    "        images_dir = os.path.join(path, \"images\")\n",
    "        labels_dir = os.path.join(path, \"labels\")\n",
    "        self.image_paths = glob.glob(os.path.join(images_dir, \"*.jpg\"))\n",
    "        self.label_paths = glob.glob(os.path.join(labels_dir, \"*.txt\"))\n",
    "        self.transform = transform\n",
    "\n",
    "    def __len__(self):\n",
    "        return len(self.image_paths)\n",
    "\n",
    "    def __getitem__(self, idx):\n",
    "        img_path = self.image_paths[idx]\n",
    "        label_path = self.label_paths[idx]\n",
    "        \n",
    "        image = Image.open(img_path).convert(\"RGB\")\n",
    "        image = self.transform(image)\n",
    "\n",
    "        annotations = []\n",
    "        with open(label_path, 'r') as file:\n",
    "            for line in file:\n",
    "                class_id, x_min, y_min, x_max, y_max = map(float, line.strip().split())\n",
    "                annotations.append((int(class_id), x_min, y_min, x_max, y_max))\n",
    "\n",
    "        # Pad if necessary\n",
    "        if len(annotations) > config[\"max_boxes\"]:\n",
    "            annotations = annotations[:config[\"max_boxes\"]]\n",
    "        elif len(annotations) < config[\"max_boxes\"]:\n",
    "            annotations += [(0, 0, 0, 0, 0)] * (config[\"max_boxes\"] - len(annotations))\n",
    "\n",
    "        class_ids = torch.tensor([a[0] for a in annotations], dtype=torch.long)\n",
    "        boxes = torch.tensor([a[1:] for a in annotations], dtype=torch.float32)\n",
    "        \n",
    "        return image, class_ids, boxes\n",
    "    \n",
    "\n",
    "class DetectionDataModule(L.LightningDataModule):\n",
    "    def __init__(self, num_workers, batch_size):\n",
    "        super().__init__()\n",
    "        self.num_workers = num_workers\n",
    "        self.batch_size = batch_size\n",
    "        self.num_classes = 0\n",
    "\n",
    "    def prepare_data(self):\n",
    "        rf = Roboflow(api_key=os.getenv(\"ROBOFLOW_API_KEY\"))\n",
    "        project = rf.workspace(\"yaid-pzikt\").project(\"firefighting-device-detection\")\n",
    "        version = project.version(6)\n",
    "        dataset = version.download(\"yolov8\")\n",
    "        print(dataset.__dict__)\n",
    "        \n",
    "        with open(os.path.join(data_dir, 'data.yaml'), 'r') as f:\n",
    "            data = yaml.safe_load(f)\n",
    "        labels = data.get('names', [])\n",
    "        self.num_classes = data.get('nc', [])\n",
    "        assert len(labels) == self.num_classes\n",
    "        print(f\"Labels: {labels}\")\n",
    "        print(f\"Number of classes: {self.num_classes}\")\n",
    "\n",
    "    def setup(self, stage=None):\n",
    "        transform = TransformsSimCLR(size=config[\"image_size\"])\n",
    "        self.train_dataset = DetectionDataset(split=\"train\", transform=transform.train_transform)\n",
    "        self.valid_dataset = DetectionDataset(split=\"valid\", transform=transform.test_transform)\n",
    "        self.test_dataset = DetectionDataset(split=\"test\", transform=transform.test_transform)\n",
    "\n",
    "    def collate_fn(self, batch):\n",
    "        images, class_ids, boxes = zip(*batch)\n",
    "        images = torch.stack(images)\n",
    "        class_ids = torch.stack(class_ids)\n",
    "        boxes = torch.stack(boxes)\n",
    "        return images, (class_ids, boxes)\n",
    "\n",
    "    def train_dataloader(self):\n",
    "        return DataLoader(self.train_dataset, batch_size=self.batch_size, shuffle=True, drop_last=True, num_workers=self.num_workers, collate_fn=self.collate_fn)\n",
    "\n",
    "    def val_dataloader(self):\n",
    "        return DataLoader(self.valid_dataset, batch_size=self.batch_size, shuffle=False, drop_last=True, num_workers=self.num_workers, collate_fn=self.collate_fn)\n",
    "\n",
    "    def test_dataloader(self):\n",
    "        return DataLoader(self.test_dataset, batch_size=self.batch_size, shuffle=False, drop_last=True, num_workers=self.num_workers, collate_fn=self.collate_fn)\n",
    "\n",
    "    def predict_dataloader(self):\n",
    "        return DataLoader(self.test_dataset, batch_size=self.batch_size, shuffle=False, drop_last=True, num_workers=self.num_workers, collate_fn=self.collate_fn)"
   ]
  },
  {
   "cell_type": "code",
   "execution_count": 5,
   "metadata": {},
   "outputs": [],
   "source": [
    "# Loss function\n",
    "\n",
    "import torch.nn as nn\n",
    "\n",
    "def detection_loss(pred_classes, pred_boxes, true_labels, true_boxes):    \n",
    "    flat_pred_classes = pred_classes.view(-1, pred_classes.size(-1))  # Flatten to [batch_size * max_boxes, num_classes]\n",
    "    flat_true_labels = true_labels.view(-1)  # Flatten to [batch_size * max_boxes]\n",
    "    \n",
    "    valid_mask = true_labels > 0\n",
    "\n",
    "    valid_indices = valid_mask.view(-1)\n",
    "    class_loss = nn.CrossEntropyLoss()(flat_pred_classes[valid_indices], flat_true_labels[valid_indices])\n",
    "    \n",
    "    valid_boxes = valid_mask.unsqueeze(-1).expand_as(true_boxes) \n",
    "    loc_loss = nn.SmoothL1Loss()(pred_boxes[valid_boxes], true_boxes[valid_boxes])\n",
    "\n",
    "    return class_loss + loc_loss"
   ]
  },
  {
   "cell_type": "code",
   "execution_count": 6,
   "metadata": {},
   "outputs": [
    {
     "name": "stderr",
     "output_type": "stream",
     "text": [
      "The parameter 'pretrained' is deprecated since 0.13 and may be removed in the future, please use 'weights' instead.\n",
      "Arguments other than a weight enum or `None` for 'weights' are deprecated since 0.13 and may be removed in the future. The current behavior is equivalent to passing `weights=None`.\n"
     ]
    },
    {
     "data": {
      "text/plain": [
       "<All keys matched successfully>"
      ]
     },
     "execution_count": 6,
     "metadata": {},
     "output_type": "execute_result"
    }
   ],
   "source": [
    "# Object detection module\n",
    "\n",
    "from simclr import SimCLR\n",
    "from simclr.modules import get_resnet\n",
    "\n",
    "\n",
    "# lr set by Tuner\n",
    "class DetectionModel(L.LightningModule):\n",
    "    def __init__(self, simclr_model, num_classes, weight_decay, lr=0):\n",
    "        super(DetectionModel, self).__init__()\n",
    "        self.feature_extractor = simclr_model.encoder\n",
    "        self.feature_extractor.requires_grad_(False)  # Freeze the encoder\n",
    "        self.bbox_regressor = nn.Linear(simclr_model.n_features, config[\"max_boxes\"] * 4)\n",
    "        self.classifier = nn.Linear(simclr_model.n_features, config[\"max_boxes\"] * (num_classes + 1))  # +1 for background\n",
    "        self.num_classes = num_classes\n",
    "        self.weight_decay = weight_decay\n",
    "        self.lr = lr\n",
    "\n",
    "    def training_step(self, batch, batch_idx):\n",
    "        images, (class_labels, bbox) = batch\n",
    "\n",
    "        features = self.feature_extractor(images)\n",
    "        predicted_classes = self.classifier(features).view(-1, config[\"max_boxes\"], self.num_classes + 1)\n",
    "        predicted_bboxes = self.bbox_regressor(features).view(-1, config[\"max_boxes\"], 4)\n",
    "\n",
    "        loss = detection_loss(predicted_classes, predicted_bboxes, class_labels, bbox)\n",
    "        self.log('train_loss', loss, prog_bar=True, logger=True)\n",
    "        return loss\n",
    "    \n",
    "    def validation_step(self, batch, batch_idx):\n",
    "        images, (class_labels, bbox) = batch\n",
    "\n",
    "        features = self.feature_extractor(images)\n",
    "        predicted_classes = self.classifier(features).view(-1, config[\"max_boxes\"], self.num_classes + 1)\n",
    "        predicted_bboxes = self.bbox_regressor(features).view(-1, config[\"max_boxes\"], 4)\n",
    "\n",
    "        loss = detection_loss(predicted_classes, predicted_bboxes, class_labels, bbox)\n",
    "        self.log('valid_loss', loss, prog_bar=True, logger=True)\n",
    "        return loss\n",
    "\n",
    "    def test_step(self, batch, batch_idx):\n",
    "        images, (class_labels, bbox) = batch\n",
    "\n",
    "        features = self.feature_extractor(images)\n",
    "        predicted_classes = self.classifier(features).view(-1, config[\"max_boxes\"], self.num_classes + 1)\n",
    "        predicted_bboxes = self.bbox_regressor(features).view(-1, config[\"max_boxes\"], 4)\n",
    "\n",
    "        loss = detection_loss(predicted_classes, predicted_bboxes, class_labels, bbox)\n",
    "        self.log('test_loss', loss, prog_bar=True, logger=True)\n",
    "        return loss\n",
    "\n",
    "    def configure_optimizers(self):\n",
    "        optimizer = torch.optim.Adam(self.parameters(), lr=self.lr, weight_decay=self.weight_decay)  \n",
    "        return optimizer\n",
    "\n",
    "\n",
    "encoder = get_resnet(config[\"resnet\"], pretrained=False)\n",
    "n_features = encoder.fc.in_features\n",
    "\n",
    "simclr_model = SimCLR(encoder=encoder, projection_dim=config[\"projection_dim\"], n_features=n_features)\n",
    "simclr_model.load_state_dict(torch.load(model_path))"
   ]
  },
  {
   "cell_type": "code",
   "execution_count": 7,
   "metadata": {},
   "outputs": [
    {
     "name": "stdout",
     "output_type": "stream",
     "text": [
      "Trial 1/5\n",
      "Batch size: 16, Weight decay: 0.024957026057426078\n",
      "loading Roboflow workspace...\n",
      "loading Roboflow project...\n"
     ]
    },
    {
     "name": "stderr",
     "output_type": "stream",
     "text": [
      "Using bfloat16 Automatic Mixed Precision (AMP)\n",
      "GPU available: True (cuda), used: True\n",
      "TPU available: False, using: 0 TPU cores\n",
      "IPU available: False, using: 0 IPUs\n",
      "HPU available: False, using: 0 HPUs\n",
      "You are using a CUDA device ('NVIDIA GeForce RTX 3090') that has Tensor Cores. To properly utilize them, you should set `torch.set_float32_matmul_precision('medium' | 'high')` which will trade-off precision for performance. For more details, read https://pytorch.org/docs/stable/generated/torch.set_float32_matmul_precision.html#torch.set_float32_matmul_precision\n"
     ]
    },
    {
     "name": "stdout",
     "output_type": "stream",
     "text": [
      "[WARNING] we noticed you are downloading a `yolov8` datasets but you don't have `ultralytics` installed. Roboflow `.deploy` supports only models trained with `ultralytics==8.0.196`, to intall it `pip install ultralytics==8.0.196`.\n",
      "{'name': 'Firefighting Device Detection', 'version': '6', 'model_format': 'yolov8', 'location': '/home/andrewhinh/Desktop/Projects/bobyard/Firefighting-Device-Detection-6'}\n",
      "Labels: ['24V-power-cord', 'acousto-optic-alarm', 'area-display', 'bus-isolation-module', 'coded-smoke-detector', 'coded-temperature-detector', 'dedicated-metal-module-box-for-fire-pump', 'dedicated-metal-module-box-for-fire-smoke-exhaust-fan', 'dedicated-metal-module-box-for-fire-supplementary-fan', 'deflation-indicator-light', 'electrical-fire-monitoring-line', 'emergency-manual-start-stop-button', 'explosion-proof-smoke-detector', 'fire-broadcasting-line', 'fire-equipment-power-monitoring-line', 'fire-fan-manual-control-line', 'fire-hydrant-button', 'fire-telephone-extension', 'fire-water-pump-manual-control-line', 'gas-spray-audible-and-visual-alarm', 'gun-type-infrared-camera-in-the-basement', 'i-o-module', 'input-module', 'light-display', 'manual-alarm-button-with-fire-telephone-jack', 'manual-automatic-switching-device', 'metal-modular-box', 'normally-open-smoke-exhaust-valve-with-280-operation', 'normally-open-smoke-exhaust-valve-with-70-operation', 'normally-open-smoke-exhaust-valve-with-70-operation-closed-in-case-of-fire', 'pressure-switch-flow-switch-start-pump-line', 'pressure-switch-gas-extinguisher', 'safety-signal-valve', 'secondary-fire-shutter-door-control-box', 'security-video-intercom-door-machine', 'smoke-vent', 'speaker', 'the-electromagnetic-valve', 'video-intercom-card-reader', 'voltage-signal-sensor', 'water-flow-indicator']\n",
      "Number of classes: 41\n",
      "loading Roboflow workspace...\n",
      "loading Roboflow project...\n"
     ]
    },
    {
     "name": "stderr",
     "output_type": "stream",
     "text": [
      "LOCAL_RANK: 0 - CUDA_VISIBLE_DEVICES: [0]\n"
     ]
    },
    {
     "name": "stdout",
     "output_type": "stream",
     "text": [
      "[WARNING] we noticed you are downloading a `yolov8` datasets but you don't have `ultralytics` installed. Roboflow `.deploy` supports only models trained with `ultralytics==8.0.196`, to intall it `pip install ultralytics==8.0.196`.\n",
      "{'name': 'Firefighting Device Detection', 'version': '6', 'model_format': 'yolov8', 'location': '/home/andrewhinh/Desktop/Projects/bobyard/Firefighting-Device-Detection-6'}\n",
      "Labels: ['24V-power-cord', 'acousto-optic-alarm', 'area-display', 'bus-isolation-module', 'coded-smoke-detector', 'coded-temperature-detector', 'dedicated-metal-module-box-for-fire-pump', 'dedicated-metal-module-box-for-fire-smoke-exhaust-fan', 'dedicated-metal-module-box-for-fire-supplementary-fan', 'deflation-indicator-light', 'electrical-fire-monitoring-line', 'emergency-manual-start-stop-button', 'explosion-proof-smoke-detector', 'fire-broadcasting-line', 'fire-equipment-power-monitoring-line', 'fire-fan-manual-control-line', 'fire-hydrant-button', 'fire-telephone-extension', 'fire-water-pump-manual-control-line', 'gas-spray-audible-and-visual-alarm', 'gun-type-infrared-camera-in-the-basement', 'i-o-module', 'input-module', 'light-display', 'manual-alarm-button-with-fire-telephone-jack', 'manual-automatic-switching-device', 'metal-modular-box', 'normally-open-smoke-exhaust-valve-with-280-operation', 'normally-open-smoke-exhaust-valve-with-70-operation', 'normally-open-smoke-exhaust-valve-with-70-operation-closed-in-case-of-fire', 'pressure-switch-flow-switch-start-pump-line', 'pressure-switch-gas-extinguisher', 'safety-signal-valve', 'secondary-fire-shutter-door-control-box', 'security-video-intercom-door-machine', 'smoke-vent', 'speaker', 'the-electromagnetic-valve', 'video-intercom-card-reader', 'voltage-signal-sensor', 'water-flow-indicator']\n",
      "Number of classes: 41\n"
     ]
    },
    {
     "name": "stderr",
     "output_type": "stream",
     "text": [
      "The number of training batches (6) is smaller than the logging interval Trainer(log_every_n_steps=50). Set a lower value for log_every_n_steps if you want to see logs for the training epoch.\n"
     ]
    },
    {
     "data": {
      "application/vnd.jupyter.widget-view+json": {
       "model_id": "7033b7d8fad9467197068ac0e5d75fd9",
       "version_major": 2,
       "version_minor": 0
      },
      "text/plain": [
       "Finding best initial lr:   0%|          | 0/100 [00:00<?, ?it/s]"
      ]
     },
     "metadata": {},
     "output_type": "display_data"
    },
    {
     "name": "stderr",
     "output_type": "stream",
     "text": [
      "`Trainer.fit` stopped: `max_epochs=5` reached.\n",
      "LR finder stopped early after 30 steps due to diverging loss.\n",
      "Learning rate set to 2.089296130854039e-06\n",
      "Restoring states from the checkpoint path at /home/andrewhinh/Desktop/Projects/bobyard/.lr_find_333fae0e-4dba-45d0-8c2e-8705ba8fd58b.ckpt\n",
      "Restored all states from the checkpoint at /home/andrewhinh/Desktop/Projects/bobyard/.lr_find_333fae0e-4dba-45d0-8c2e-8705ba8fd58b.ckpt\n"
     ]
    },
    {
     "name": "stdout",
     "output_type": "stream",
     "text": [
      "loading Roboflow workspace...\n",
      "loading Roboflow project...\n"
     ]
    },
    {
     "name": "stderr",
     "output_type": "stream",
     "text": [
      "LOCAL_RANK: 0 - CUDA_VISIBLE_DEVICES: [0]\n",
      "\n",
      "  | Name              | Type   | Params\n",
      "---------------------------------------------\n",
      "0 | feature_extractor | ResNet | 23.5 M\n",
      "1 | bbox_regressor    | Linear | 409 K \n",
      "2 | classifier        | Linear | 4.3 M \n",
      "---------------------------------------------\n",
      "4.7 M     Trainable params\n",
      "23.5 M    Non-trainable params\n",
      "28.2 M    Total params\n",
      "112.883   Total estimated model params size (MB)\n"
     ]
    },
    {
     "name": "stdout",
     "output_type": "stream",
     "text": [
      "[WARNING] we noticed you are downloading a `yolov8` datasets but you don't have `ultralytics` installed. Roboflow `.deploy` supports only models trained with `ultralytics==8.0.196`, to intall it `pip install ultralytics==8.0.196`.\n",
      "{'name': 'Firefighting Device Detection', 'version': '6', 'model_format': 'yolov8', 'location': '/home/andrewhinh/Desktop/Projects/bobyard/Firefighting-Device-Detection-6'}\n",
      "Labels: ['24V-power-cord', 'acousto-optic-alarm', 'area-display', 'bus-isolation-module', 'coded-smoke-detector', 'coded-temperature-detector', 'dedicated-metal-module-box-for-fire-pump', 'dedicated-metal-module-box-for-fire-smoke-exhaust-fan', 'dedicated-metal-module-box-for-fire-supplementary-fan', 'deflation-indicator-light', 'electrical-fire-monitoring-line', 'emergency-manual-start-stop-button', 'explosion-proof-smoke-detector', 'fire-broadcasting-line', 'fire-equipment-power-monitoring-line', 'fire-fan-manual-control-line', 'fire-hydrant-button', 'fire-telephone-extension', 'fire-water-pump-manual-control-line', 'gas-spray-audible-and-visual-alarm', 'gun-type-infrared-camera-in-the-basement', 'i-o-module', 'input-module', 'light-display', 'manual-alarm-button-with-fire-telephone-jack', 'manual-automatic-switching-device', 'metal-modular-box', 'normally-open-smoke-exhaust-valve-with-280-operation', 'normally-open-smoke-exhaust-valve-with-70-operation', 'normally-open-smoke-exhaust-valve-with-70-operation-closed-in-case-of-fire', 'pressure-switch-flow-switch-start-pump-line', 'pressure-switch-gas-extinguisher', 'safety-signal-valve', 'secondary-fire-shutter-door-control-box', 'security-video-intercom-door-machine', 'smoke-vent', 'speaker', 'the-electromagnetic-valve', 'video-intercom-card-reader', 'voltage-signal-sensor', 'water-flow-indicator']\n",
      "Number of classes: 41\n"
     ]
    },
    {
     "data": {
      "application/vnd.jupyter.widget-view+json": {
       "model_id": "856b96c11c4a40c78cd550fffc00cdb5",
       "version_major": 2,
       "version_minor": 0
      },
      "text/plain": [
       "Sanity Checking: |          | 0/? [00:00<?, ?it/s]"
      ]
     },
     "metadata": {},
     "output_type": "display_data"
    },
    {
     "data": {
      "application/vnd.jupyter.widget-view+json": {
       "model_id": "220545018b5e4b569f753d67d1246843",
       "version_major": 2,
       "version_minor": 0
      },
      "text/plain": [
       "Training: |          | 0/? [00:00<?, ?it/s]"
      ]
     },
     "metadata": {},
     "output_type": "display_data"
    },
    {
     "data": {
      "application/vnd.jupyter.widget-view+json": {
       "model_id": "9dae8a4c892b4e05969925cf36b8e5a9",
       "version_major": 2,
       "version_minor": 0
      },
      "text/plain": [
       "Validation: |          | 0/? [00:00<?, ?it/s]"
      ]
     },
     "metadata": {},
     "output_type": "display_data"
    },
    {
     "data": {
      "application/vnd.jupyter.widget-view+json": {
       "model_id": "17574121550c449daa2e7319aa2b3c7d",
       "version_major": 2,
       "version_minor": 0
      },
      "text/plain": [
       "Validation: |          | 0/? [00:00<?, ?it/s]"
      ]
     },
     "metadata": {},
     "output_type": "display_data"
    },
    {
     "data": {
      "application/vnd.jupyter.widget-view+json": {
       "model_id": "88d5268a9cc948e5bbccab047e9412be",
       "version_major": 2,
       "version_minor": 0
      },
      "text/plain": [
       "Validation: |          | 0/? [00:00<?, ?it/s]"
      ]
     },
     "metadata": {},
     "output_type": "display_data"
    },
    {
     "data": {
      "application/vnd.jupyter.widget-view+json": {
       "model_id": "f568386336a341978ecf700e0a52b111",
       "version_major": 2,
       "version_minor": 0
      },
      "text/plain": [
       "Validation: |          | 0/? [00:00<?, ?it/s]"
      ]
     },
     "metadata": {},
     "output_type": "display_data"
    },
    {
     "data": {
      "application/vnd.jupyter.widget-view+json": {
       "model_id": "b30067abdaa049ce96736a2939973982",
       "version_major": 2,
       "version_minor": 0
      },
      "text/plain": [
       "Validation: |          | 0/? [00:00<?, ?it/s]"
      ]
     },
     "metadata": {},
     "output_type": "display_data"
    },
    {
     "name": "stderr",
     "output_type": "stream",
     "text": [
      "`Trainer.fit` stopped: `max_epochs=5` reached.\n"
     ]
    },
    {
     "name": "stdout",
     "output_type": "stream",
     "text": [
      "loading Roboflow workspace...\n",
      "loading Roboflow project...\n"
     ]
    },
    {
     "name": "stderr",
     "output_type": "stream",
     "text": [
      "LOCAL_RANK: 0 - CUDA_VISIBLE_DEVICES: [0]\n"
     ]
    },
    {
     "name": "stdout",
     "output_type": "stream",
     "text": [
      "[WARNING] we noticed you are downloading a `yolov8` datasets but you don't have `ultralytics` installed. Roboflow `.deploy` supports only models trained with `ultralytics==8.0.196`, to intall it `pip install ultralytics==8.0.196`.\n",
      "{'name': 'Firefighting Device Detection', 'version': '6', 'model_format': 'yolov8', 'location': '/home/andrewhinh/Desktop/Projects/bobyard/Firefighting-Device-Detection-6'}\n",
      "Labels: ['24V-power-cord', 'acousto-optic-alarm', 'area-display', 'bus-isolation-module', 'coded-smoke-detector', 'coded-temperature-detector', 'dedicated-metal-module-box-for-fire-pump', 'dedicated-metal-module-box-for-fire-smoke-exhaust-fan', 'dedicated-metal-module-box-for-fire-supplementary-fan', 'deflation-indicator-light', 'electrical-fire-monitoring-line', 'emergency-manual-start-stop-button', 'explosion-proof-smoke-detector', 'fire-broadcasting-line', 'fire-equipment-power-monitoring-line', 'fire-fan-manual-control-line', 'fire-hydrant-button', 'fire-telephone-extension', 'fire-water-pump-manual-control-line', 'gas-spray-audible-and-visual-alarm', 'gun-type-infrared-camera-in-the-basement', 'i-o-module', 'input-module', 'light-display', 'manual-alarm-button-with-fire-telephone-jack', 'manual-automatic-switching-device', 'metal-modular-box', 'normally-open-smoke-exhaust-valve-with-280-operation', 'normally-open-smoke-exhaust-valve-with-70-operation', 'normally-open-smoke-exhaust-valve-with-70-operation-closed-in-case-of-fire', 'pressure-switch-flow-switch-start-pump-line', 'pressure-switch-gas-extinguisher', 'safety-signal-valve', 'secondary-fire-shutter-door-control-box', 'security-video-intercom-door-machine', 'smoke-vent', 'speaker', 'the-electromagnetic-valve', 'video-intercom-card-reader', 'voltage-signal-sensor', 'water-flow-indicator']\n",
      "Number of classes: 41\n"
     ]
    },
    {
     "data": {
      "application/vnd.jupyter.widget-view+json": {
       "model_id": "2265c4912ba64fe4936c6ebd35f7fc9d",
       "version_major": 2,
       "version_minor": 0
      },
      "text/plain": [
       "Testing: |          | 0/? [00:00<?, ?it/s]"
      ]
     },
     "metadata": {},
     "output_type": "display_data"
    },
    {
     "data": {
      "text/html": [
       "<pre style=\"white-space:pre;overflow-x:auto;line-height:normal;font-family:Menlo,'DejaVu Sans Mono',consolas,'Courier New',monospace\">┏━━━━━━━━━━━━━━━━━━━━━━━━━━━┳━━━━━━━━━━━━━━━━━━━━━━━━━━━┓\n",
       "┃<span style=\"font-weight: bold\">        Test metric        </span>┃<span style=\"font-weight: bold\">       DataLoader 0        </span>┃\n",
       "┡━━━━━━━━━━━━━━━━━━━━━━━━━━━╇━━━━━━━━━━━━━━━━━━━━━━━━━━━┩\n",
       "│<span style=\"color: #008080; text-decoration-color: #008080\">         test_loss         </span>│<span style=\"color: #800080; text-decoration-color: #800080\">     4.15718412399292      </span>│\n",
       "└───────────────────────────┴───────────────────────────┘\n",
       "</pre>\n"
      ],
      "text/plain": [
       "┏━━━━━━━━━━━━━━━━━━━━━━━━━━━┳━━━━━━━━━━━━━━━━━━━━━━━━━━━┓\n",
       "┃\u001b[1m \u001b[0m\u001b[1m       Test metric       \u001b[0m\u001b[1m \u001b[0m┃\u001b[1m \u001b[0m\u001b[1m      DataLoader 0       \u001b[0m\u001b[1m \u001b[0m┃\n",
       "┡━━━━━━━━━━━━━━━━━━━━━━━━━━━╇━━━━━━━━━━━━━━━━━━━━━━━━━━━┩\n",
       "│\u001b[36m \u001b[0m\u001b[36m        test_loss        \u001b[0m\u001b[36m \u001b[0m│\u001b[35m \u001b[0m\u001b[35m    4.15718412399292     \u001b[0m\u001b[35m \u001b[0m│\n",
       "└───────────────────────────┴───────────────────────────┘\n"
      ]
     },
     "metadata": {},
     "output_type": "display_data"
    },
    {
     "name": "stdout",
     "output_type": "stream",
     "text": [
      "Trial 2/5\n",
      "Batch size: 32, Weight decay: 0.00026147513255907017\n",
      "loading Roboflow workspace...\n",
      "loading Roboflow project...\n"
     ]
    },
    {
     "name": "stderr",
     "output_type": "stream",
     "text": [
      "Using bfloat16 Automatic Mixed Precision (AMP)\n",
      "GPU available: True (cuda), used: True\n",
      "TPU available: False, using: 0 TPU cores\n",
      "IPU available: False, using: 0 IPUs\n",
      "HPU available: False, using: 0 HPUs\n"
     ]
    },
    {
     "name": "stdout",
     "output_type": "stream",
     "text": [
      "[WARNING] we noticed you are downloading a `yolov8` datasets but you don't have `ultralytics` installed. Roboflow `.deploy` supports only models trained with `ultralytics==8.0.196`, to intall it `pip install ultralytics==8.0.196`.\n",
      "{'name': 'Firefighting Device Detection', 'version': '6', 'model_format': 'yolov8', 'location': '/home/andrewhinh/Desktop/Projects/bobyard/Firefighting-Device-Detection-6'}\n",
      "Labels: ['24V-power-cord', 'acousto-optic-alarm', 'area-display', 'bus-isolation-module', 'coded-smoke-detector', 'coded-temperature-detector', 'dedicated-metal-module-box-for-fire-pump', 'dedicated-metal-module-box-for-fire-smoke-exhaust-fan', 'dedicated-metal-module-box-for-fire-supplementary-fan', 'deflation-indicator-light', 'electrical-fire-monitoring-line', 'emergency-manual-start-stop-button', 'explosion-proof-smoke-detector', 'fire-broadcasting-line', 'fire-equipment-power-monitoring-line', 'fire-fan-manual-control-line', 'fire-hydrant-button', 'fire-telephone-extension', 'fire-water-pump-manual-control-line', 'gas-spray-audible-and-visual-alarm', 'gun-type-infrared-camera-in-the-basement', 'i-o-module', 'input-module', 'light-display', 'manual-alarm-button-with-fire-telephone-jack', 'manual-automatic-switching-device', 'metal-modular-box', 'normally-open-smoke-exhaust-valve-with-280-operation', 'normally-open-smoke-exhaust-valve-with-70-operation', 'normally-open-smoke-exhaust-valve-with-70-operation-closed-in-case-of-fire', 'pressure-switch-flow-switch-start-pump-line', 'pressure-switch-gas-extinguisher', 'safety-signal-valve', 'secondary-fire-shutter-door-control-box', 'security-video-intercom-door-machine', 'smoke-vent', 'speaker', 'the-electromagnetic-valve', 'video-intercom-card-reader', 'voltage-signal-sensor', 'water-flow-indicator']\n",
      "Number of classes: 41\n",
      "loading Roboflow workspace...\n",
      "loading Roboflow project...\n"
     ]
    },
    {
     "name": "stderr",
     "output_type": "stream",
     "text": [
      "LOCAL_RANK: 0 - CUDA_VISIBLE_DEVICES: [0]\n"
     ]
    },
    {
     "name": "stdout",
     "output_type": "stream",
     "text": [
      "[WARNING] we noticed you are downloading a `yolov8` datasets but you don't have `ultralytics` installed. Roboflow `.deploy` supports only models trained with `ultralytics==8.0.196`, to intall it `pip install ultralytics==8.0.196`.\n",
      "{'name': 'Firefighting Device Detection', 'version': '6', 'model_format': 'yolov8', 'location': '/home/andrewhinh/Desktop/Projects/bobyard/Firefighting-Device-Detection-6'}\n",
      "Labels: ['24V-power-cord', 'acousto-optic-alarm', 'area-display', 'bus-isolation-module', 'coded-smoke-detector', 'coded-temperature-detector', 'dedicated-metal-module-box-for-fire-pump', 'dedicated-metal-module-box-for-fire-smoke-exhaust-fan', 'dedicated-metal-module-box-for-fire-supplementary-fan', 'deflation-indicator-light', 'electrical-fire-monitoring-line', 'emergency-manual-start-stop-button', 'explosion-proof-smoke-detector', 'fire-broadcasting-line', 'fire-equipment-power-monitoring-line', 'fire-fan-manual-control-line', 'fire-hydrant-button', 'fire-telephone-extension', 'fire-water-pump-manual-control-line', 'gas-spray-audible-and-visual-alarm', 'gun-type-infrared-camera-in-the-basement', 'i-o-module', 'input-module', 'light-display', 'manual-alarm-button-with-fire-telephone-jack', 'manual-automatic-switching-device', 'metal-modular-box', 'normally-open-smoke-exhaust-valve-with-280-operation', 'normally-open-smoke-exhaust-valve-with-70-operation', 'normally-open-smoke-exhaust-valve-with-70-operation-closed-in-case-of-fire', 'pressure-switch-flow-switch-start-pump-line', 'pressure-switch-gas-extinguisher', 'safety-signal-valve', 'secondary-fire-shutter-door-control-box', 'security-video-intercom-door-machine', 'smoke-vent', 'speaker', 'the-electromagnetic-valve', 'video-intercom-card-reader', 'voltage-signal-sensor', 'water-flow-indicator']\n",
      "Number of classes: 41\n"
     ]
    },
    {
     "name": "stderr",
     "output_type": "stream",
     "text": [
      "The number of training batches (3) is smaller than the logging interval Trainer(log_every_n_steps=50). Set a lower value for log_every_n_steps if you want to see logs for the training epoch.\n",
      "Total length of `DataLoader` across ranks is zero. Please make sure this was your intention.\n"
     ]
    },
    {
     "data": {
      "application/vnd.jupyter.widget-view+json": {
       "model_id": "2ff4598ec8154807808d4fc2e07f6f36",
       "version_major": 2,
       "version_minor": 0
      },
      "text/plain": [
       "Finding best initial lr:   0%|          | 0/100 [00:00<?, ?it/s]"
      ]
     },
     "metadata": {},
     "output_type": "display_data"
    },
    {
     "name": "stderr",
     "output_type": "stream",
     "text": [
      "`Trainer.fit` stopped: `max_epochs=5` reached.\n",
      "LR finder stopped early after 15 steps due to diverging loss.\n",
      "Learning rate set to 1.3182567385564074e-07\n",
      "Restoring states from the checkpoint path at /home/andrewhinh/Desktop/Projects/bobyard/.lr_find_32664560-cdfb-41b2-8c51-a2b893bc2b02.ckpt\n",
      "Restored all states from the checkpoint at /home/andrewhinh/Desktop/Projects/bobyard/.lr_find_32664560-cdfb-41b2-8c51-a2b893bc2b02.ckpt\n"
     ]
    },
    {
     "name": "stdout",
     "output_type": "stream",
     "text": [
      "loading Roboflow workspace...\n",
      "loading Roboflow project...\n"
     ]
    },
    {
     "name": "stderr",
     "output_type": "stream",
     "text": [
      "LOCAL_RANK: 0 - CUDA_VISIBLE_DEVICES: [0]\n",
      "\n",
      "  | Name              | Type   | Params\n",
      "---------------------------------------------\n",
      "0 | feature_extractor | ResNet | 23.5 M\n",
      "1 | bbox_regressor    | Linear | 409 K \n",
      "2 | classifier        | Linear | 4.3 M \n",
      "---------------------------------------------\n",
      "4.7 M     Trainable params\n",
      "23.5 M    Non-trainable params\n",
      "28.2 M    Total params\n",
      "112.883   Total estimated model params size (MB)\n"
     ]
    },
    {
     "name": "stdout",
     "output_type": "stream",
     "text": [
      "[WARNING] we noticed you are downloading a `yolov8` datasets but you don't have `ultralytics` installed. Roboflow `.deploy` supports only models trained with `ultralytics==8.0.196`, to intall it `pip install ultralytics==8.0.196`.\n",
      "{'name': 'Firefighting Device Detection', 'version': '6', 'model_format': 'yolov8', 'location': '/home/andrewhinh/Desktop/Projects/bobyard/Firefighting-Device-Detection-6'}\n",
      "Labels: ['24V-power-cord', 'acousto-optic-alarm', 'area-display', 'bus-isolation-module', 'coded-smoke-detector', 'coded-temperature-detector', 'dedicated-metal-module-box-for-fire-pump', 'dedicated-metal-module-box-for-fire-smoke-exhaust-fan', 'dedicated-metal-module-box-for-fire-supplementary-fan', 'deflation-indicator-light', 'electrical-fire-monitoring-line', 'emergency-manual-start-stop-button', 'explosion-proof-smoke-detector', 'fire-broadcasting-line', 'fire-equipment-power-monitoring-line', 'fire-fan-manual-control-line', 'fire-hydrant-button', 'fire-telephone-extension', 'fire-water-pump-manual-control-line', 'gas-spray-audible-and-visual-alarm', 'gun-type-infrared-camera-in-the-basement', 'i-o-module', 'input-module', 'light-display', 'manual-alarm-button-with-fire-telephone-jack', 'manual-automatic-switching-device', 'metal-modular-box', 'normally-open-smoke-exhaust-valve-with-280-operation', 'normally-open-smoke-exhaust-valve-with-70-operation', 'normally-open-smoke-exhaust-valve-with-70-operation-closed-in-case-of-fire', 'pressure-switch-flow-switch-start-pump-line', 'pressure-switch-gas-extinguisher', 'safety-signal-valve', 'secondary-fire-shutter-door-control-box', 'security-video-intercom-door-machine', 'smoke-vent', 'speaker', 'the-electromagnetic-valve', 'video-intercom-card-reader', 'voltage-signal-sensor', 'water-flow-indicator']\n",
      "Number of classes: 41\n"
     ]
    },
    {
     "data": {
      "application/vnd.jupyter.widget-view+json": {
       "model_id": "16169190c23a4fc8a267d0b82afcafbc",
       "version_major": 2,
       "version_minor": 0
      },
      "text/plain": [
       "Sanity Checking: |          | 0/? [00:00<?, ?it/s]"
      ]
     },
     "metadata": {},
     "output_type": "display_data"
    },
    {
     "data": {
      "application/vnd.jupyter.widget-view+json": {
       "model_id": "79c9b09fa82044d68b98d70f250fea53",
       "version_major": 2,
       "version_minor": 0
      },
      "text/plain": [
       "Training: |          | 0/? [00:00<?, ?it/s]"
      ]
     },
     "metadata": {},
     "output_type": "display_data"
    },
    {
     "name": "stderr",
     "output_type": "stream",
     "text": [
      "`Trainer.fit` stopped: `max_epochs=5` reached.\n"
     ]
    },
    {
     "name": "stdout",
     "output_type": "stream",
     "text": [
      "loading Roboflow workspace...\n",
      "loading Roboflow project...\n"
     ]
    },
    {
     "name": "stderr",
     "output_type": "stream",
     "text": [
      "LOCAL_RANK: 0 - CUDA_VISIBLE_DEVICES: [0]\n"
     ]
    },
    {
     "name": "stdout",
     "output_type": "stream",
     "text": [
      "[WARNING] we noticed you are downloading a `yolov8` datasets but you don't have `ultralytics` installed. Roboflow `.deploy` supports only models trained with `ultralytics==8.0.196`, to intall it `pip install ultralytics==8.0.196`.\n",
      "{'name': 'Firefighting Device Detection', 'version': '6', 'model_format': 'yolov8', 'location': '/home/andrewhinh/Desktop/Projects/bobyard/Firefighting-Device-Detection-6'}\n",
      "Labels: ['24V-power-cord', 'acousto-optic-alarm', 'area-display', 'bus-isolation-module', 'coded-smoke-detector', 'coded-temperature-detector', 'dedicated-metal-module-box-for-fire-pump', 'dedicated-metal-module-box-for-fire-smoke-exhaust-fan', 'dedicated-metal-module-box-for-fire-supplementary-fan', 'deflation-indicator-light', 'electrical-fire-monitoring-line', 'emergency-manual-start-stop-button', 'explosion-proof-smoke-detector', 'fire-broadcasting-line', 'fire-equipment-power-monitoring-line', 'fire-fan-manual-control-line', 'fire-hydrant-button', 'fire-telephone-extension', 'fire-water-pump-manual-control-line', 'gas-spray-audible-and-visual-alarm', 'gun-type-infrared-camera-in-the-basement', 'i-o-module', 'input-module', 'light-display', 'manual-alarm-button-with-fire-telephone-jack', 'manual-automatic-switching-device', 'metal-modular-box', 'normally-open-smoke-exhaust-valve-with-280-operation', 'normally-open-smoke-exhaust-valve-with-70-operation', 'normally-open-smoke-exhaust-valve-with-70-operation-closed-in-case-of-fire', 'pressure-switch-flow-switch-start-pump-line', 'pressure-switch-gas-extinguisher', 'safety-signal-valve', 'secondary-fire-shutter-door-control-box', 'security-video-intercom-door-machine', 'smoke-vent', 'speaker', 'the-electromagnetic-valve', 'video-intercom-card-reader', 'voltage-signal-sensor', 'water-flow-indicator']\n",
      "Number of classes: 41\n",
      "Trial 3/5\n",
      "Batch size: 32, Weight decay: 0.002919418007539138\n",
      "loading Roboflow workspace...\n",
      "loading Roboflow project...\n"
     ]
    },
    {
     "name": "stderr",
     "output_type": "stream",
     "text": [
      "Using bfloat16 Automatic Mixed Precision (AMP)\n",
      "GPU available: True (cuda), used: True\n",
      "TPU available: False, using: 0 TPU cores\n",
      "IPU available: False, using: 0 IPUs\n",
      "HPU available: False, using: 0 HPUs\n"
     ]
    },
    {
     "name": "stdout",
     "output_type": "stream",
     "text": [
      "[WARNING] we noticed you are downloading a `yolov8` datasets but you don't have `ultralytics` installed. Roboflow `.deploy` supports only models trained with `ultralytics==8.0.196`, to intall it `pip install ultralytics==8.0.196`.\n",
      "{'name': 'Firefighting Device Detection', 'version': '6', 'model_format': 'yolov8', 'location': '/home/andrewhinh/Desktop/Projects/bobyard/Firefighting-Device-Detection-6'}\n",
      "Labels: ['24V-power-cord', 'acousto-optic-alarm', 'area-display', 'bus-isolation-module', 'coded-smoke-detector', 'coded-temperature-detector', 'dedicated-metal-module-box-for-fire-pump', 'dedicated-metal-module-box-for-fire-smoke-exhaust-fan', 'dedicated-metal-module-box-for-fire-supplementary-fan', 'deflation-indicator-light', 'electrical-fire-monitoring-line', 'emergency-manual-start-stop-button', 'explosion-proof-smoke-detector', 'fire-broadcasting-line', 'fire-equipment-power-monitoring-line', 'fire-fan-manual-control-line', 'fire-hydrant-button', 'fire-telephone-extension', 'fire-water-pump-manual-control-line', 'gas-spray-audible-and-visual-alarm', 'gun-type-infrared-camera-in-the-basement', 'i-o-module', 'input-module', 'light-display', 'manual-alarm-button-with-fire-telephone-jack', 'manual-automatic-switching-device', 'metal-modular-box', 'normally-open-smoke-exhaust-valve-with-280-operation', 'normally-open-smoke-exhaust-valve-with-70-operation', 'normally-open-smoke-exhaust-valve-with-70-operation-closed-in-case-of-fire', 'pressure-switch-flow-switch-start-pump-line', 'pressure-switch-gas-extinguisher', 'safety-signal-valve', 'secondary-fire-shutter-door-control-box', 'security-video-intercom-door-machine', 'smoke-vent', 'speaker', 'the-electromagnetic-valve', 'video-intercom-card-reader', 'voltage-signal-sensor', 'water-flow-indicator']\n",
      "Number of classes: 41\n",
      "loading Roboflow workspace...\n",
      "loading Roboflow project...\n"
     ]
    },
    {
     "name": "stderr",
     "output_type": "stream",
     "text": [
      "LOCAL_RANK: 0 - CUDA_VISIBLE_DEVICES: [0]\n"
     ]
    },
    {
     "name": "stdout",
     "output_type": "stream",
     "text": [
      "[WARNING] we noticed you are downloading a `yolov8` datasets but you don't have `ultralytics` installed. Roboflow `.deploy` supports only models trained with `ultralytics==8.0.196`, to intall it `pip install ultralytics==8.0.196`.\n",
      "{'name': 'Firefighting Device Detection', 'version': '6', 'model_format': 'yolov8', 'location': '/home/andrewhinh/Desktop/Projects/bobyard/Firefighting-Device-Detection-6'}\n",
      "Labels: ['24V-power-cord', 'acousto-optic-alarm', 'area-display', 'bus-isolation-module', 'coded-smoke-detector', 'coded-temperature-detector', 'dedicated-metal-module-box-for-fire-pump', 'dedicated-metal-module-box-for-fire-smoke-exhaust-fan', 'dedicated-metal-module-box-for-fire-supplementary-fan', 'deflation-indicator-light', 'electrical-fire-monitoring-line', 'emergency-manual-start-stop-button', 'explosion-proof-smoke-detector', 'fire-broadcasting-line', 'fire-equipment-power-monitoring-line', 'fire-fan-manual-control-line', 'fire-hydrant-button', 'fire-telephone-extension', 'fire-water-pump-manual-control-line', 'gas-spray-audible-and-visual-alarm', 'gun-type-infrared-camera-in-the-basement', 'i-o-module', 'input-module', 'light-display', 'manual-alarm-button-with-fire-telephone-jack', 'manual-automatic-switching-device', 'metal-modular-box', 'normally-open-smoke-exhaust-valve-with-280-operation', 'normally-open-smoke-exhaust-valve-with-70-operation', 'normally-open-smoke-exhaust-valve-with-70-operation-closed-in-case-of-fire', 'pressure-switch-flow-switch-start-pump-line', 'pressure-switch-gas-extinguisher', 'safety-signal-valve', 'secondary-fire-shutter-door-control-box', 'security-video-intercom-door-machine', 'smoke-vent', 'speaker', 'the-electromagnetic-valve', 'video-intercom-card-reader', 'voltage-signal-sensor', 'water-flow-indicator']\n",
      "Number of classes: 41\n"
     ]
    },
    {
     "data": {
      "application/vnd.jupyter.widget-view+json": {
       "model_id": "4fffc02cbfc641beb1822bf6a522ef9d",
       "version_major": 2,
       "version_minor": 0
      },
      "text/plain": [
       "Finding best initial lr:   0%|          | 0/100 [00:00<?, ?it/s]"
      ]
     },
     "metadata": {},
     "output_type": "display_data"
    },
    {
     "name": "stderr",
     "output_type": "stream",
     "text": [
      "`Trainer.fit` stopped: `max_epochs=5` reached.\n",
      "LR finder stopped early after 15 steps due to diverging loss.\n",
      "Learning rate set to 1.3182567385564074e-07\n",
      "Restoring states from the checkpoint path at /home/andrewhinh/Desktop/Projects/bobyard/.lr_find_85d6ab4a-2808-413e-bf4c-3a1570c4e2cf.ckpt\n",
      "Restored all states from the checkpoint at /home/andrewhinh/Desktop/Projects/bobyard/.lr_find_85d6ab4a-2808-413e-bf4c-3a1570c4e2cf.ckpt\n"
     ]
    },
    {
     "name": "stdout",
     "output_type": "stream",
     "text": [
      "loading Roboflow workspace...\n",
      "loading Roboflow project...\n"
     ]
    },
    {
     "name": "stderr",
     "output_type": "stream",
     "text": [
      "LOCAL_RANK: 0 - CUDA_VISIBLE_DEVICES: [0]\n",
      "\n",
      "  | Name              | Type   | Params\n",
      "---------------------------------------------\n",
      "0 | feature_extractor | ResNet | 23.5 M\n",
      "1 | bbox_regressor    | Linear | 409 K \n",
      "2 | classifier        | Linear | 4.3 M \n",
      "---------------------------------------------\n",
      "4.7 M     Trainable params\n",
      "23.5 M    Non-trainable params\n",
      "28.2 M    Total params\n",
      "112.883   Total estimated model params size (MB)\n"
     ]
    },
    {
     "name": "stdout",
     "output_type": "stream",
     "text": [
      "[WARNING] we noticed you are downloading a `yolov8` datasets but you don't have `ultralytics` installed. Roboflow `.deploy` supports only models trained with `ultralytics==8.0.196`, to intall it `pip install ultralytics==8.0.196`.\n",
      "{'name': 'Firefighting Device Detection', 'version': '6', 'model_format': 'yolov8', 'location': '/home/andrewhinh/Desktop/Projects/bobyard/Firefighting-Device-Detection-6'}\n",
      "Labels: ['24V-power-cord', 'acousto-optic-alarm', 'area-display', 'bus-isolation-module', 'coded-smoke-detector', 'coded-temperature-detector', 'dedicated-metal-module-box-for-fire-pump', 'dedicated-metal-module-box-for-fire-smoke-exhaust-fan', 'dedicated-metal-module-box-for-fire-supplementary-fan', 'deflation-indicator-light', 'electrical-fire-monitoring-line', 'emergency-manual-start-stop-button', 'explosion-proof-smoke-detector', 'fire-broadcasting-line', 'fire-equipment-power-monitoring-line', 'fire-fan-manual-control-line', 'fire-hydrant-button', 'fire-telephone-extension', 'fire-water-pump-manual-control-line', 'gas-spray-audible-and-visual-alarm', 'gun-type-infrared-camera-in-the-basement', 'i-o-module', 'input-module', 'light-display', 'manual-alarm-button-with-fire-telephone-jack', 'manual-automatic-switching-device', 'metal-modular-box', 'normally-open-smoke-exhaust-valve-with-280-operation', 'normally-open-smoke-exhaust-valve-with-70-operation', 'normally-open-smoke-exhaust-valve-with-70-operation-closed-in-case-of-fire', 'pressure-switch-flow-switch-start-pump-line', 'pressure-switch-gas-extinguisher', 'safety-signal-valve', 'secondary-fire-shutter-door-control-box', 'security-video-intercom-door-machine', 'smoke-vent', 'speaker', 'the-electromagnetic-valve', 'video-intercom-card-reader', 'voltage-signal-sensor', 'water-flow-indicator']\n",
      "Number of classes: 41\n"
     ]
    },
    {
     "data": {
      "application/vnd.jupyter.widget-view+json": {
       "model_id": "634c753879c24dda998845287daada65",
       "version_major": 2,
       "version_minor": 0
      },
      "text/plain": [
       "Sanity Checking: |          | 0/? [00:00<?, ?it/s]"
      ]
     },
     "metadata": {},
     "output_type": "display_data"
    },
    {
     "data": {
      "application/vnd.jupyter.widget-view+json": {
       "model_id": "20fe4447a88c48e3b5cdf56187339bc3",
       "version_major": 2,
       "version_minor": 0
      },
      "text/plain": [
       "Training: |          | 0/? [00:00<?, ?it/s]"
      ]
     },
     "metadata": {},
     "output_type": "display_data"
    },
    {
     "name": "stderr",
     "output_type": "stream",
     "text": [
      "`Trainer.fit` stopped: `max_epochs=5` reached.\n"
     ]
    },
    {
     "name": "stdout",
     "output_type": "stream",
     "text": [
      "loading Roboflow workspace...\n",
      "loading Roboflow project...\n"
     ]
    },
    {
     "name": "stderr",
     "output_type": "stream",
     "text": [
      "LOCAL_RANK: 0 - CUDA_VISIBLE_DEVICES: [0]\n"
     ]
    },
    {
     "name": "stdout",
     "output_type": "stream",
     "text": [
      "[WARNING] we noticed you are downloading a `yolov8` datasets but you don't have `ultralytics` installed. Roboflow `.deploy` supports only models trained with `ultralytics==8.0.196`, to intall it `pip install ultralytics==8.0.196`.\n",
      "{'name': 'Firefighting Device Detection', 'version': '6', 'model_format': 'yolov8', 'location': '/home/andrewhinh/Desktop/Projects/bobyard/Firefighting-Device-Detection-6'}\n",
      "Labels: ['24V-power-cord', 'acousto-optic-alarm', 'area-display', 'bus-isolation-module', 'coded-smoke-detector', 'coded-temperature-detector', 'dedicated-metal-module-box-for-fire-pump', 'dedicated-metal-module-box-for-fire-smoke-exhaust-fan', 'dedicated-metal-module-box-for-fire-supplementary-fan', 'deflation-indicator-light', 'electrical-fire-monitoring-line', 'emergency-manual-start-stop-button', 'explosion-proof-smoke-detector', 'fire-broadcasting-line', 'fire-equipment-power-monitoring-line', 'fire-fan-manual-control-line', 'fire-hydrant-button', 'fire-telephone-extension', 'fire-water-pump-manual-control-line', 'gas-spray-audible-and-visual-alarm', 'gun-type-infrared-camera-in-the-basement', 'i-o-module', 'input-module', 'light-display', 'manual-alarm-button-with-fire-telephone-jack', 'manual-automatic-switching-device', 'metal-modular-box', 'normally-open-smoke-exhaust-valve-with-280-operation', 'normally-open-smoke-exhaust-valve-with-70-operation', 'normally-open-smoke-exhaust-valve-with-70-operation-closed-in-case-of-fire', 'pressure-switch-flow-switch-start-pump-line', 'pressure-switch-gas-extinguisher', 'safety-signal-valve', 'secondary-fire-shutter-door-control-box', 'security-video-intercom-door-machine', 'smoke-vent', 'speaker', 'the-electromagnetic-valve', 'video-intercom-card-reader', 'voltage-signal-sensor', 'water-flow-indicator']\n",
      "Number of classes: 41\n",
      "Trial 4/5\n",
      "Batch size: 64, Weight decay: 0.0022535971082189507\n",
      "loading Roboflow workspace...\n",
      "loading Roboflow project...\n"
     ]
    },
    {
     "name": "stderr",
     "output_type": "stream",
     "text": [
      "Using bfloat16 Automatic Mixed Precision (AMP)\n",
      "GPU available: True (cuda), used: True\n",
      "TPU available: False, using: 0 TPU cores\n",
      "IPU available: False, using: 0 IPUs\n",
      "HPU available: False, using: 0 HPUs\n"
     ]
    },
    {
     "name": "stdout",
     "output_type": "stream",
     "text": [
      "[WARNING] we noticed you are downloading a `yolov8` datasets but you don't have `ultralytics` installed. Roboflow `.deploy` supports only models trained with `ultralytics==8.0.196`, to intall it `pip install ultralytics==8.0.196`.\n",
      "{'name': 'Firefighting Device Detection', 'version': '6', 'model_format': 'yolov8', 'location': '/home/andrewhinh/Desktop/Projects/bobyard/Firefighting-Device-Detection-6'}\n",
      "Labels: ['24V-power-cord', 'acousto-optic-alarm', 'area-display', 'bus-isolation-module', 'coded-smoke-detector', 'coded-temperature-detector', 'dedicated-metal-module-box-for-fire-pump', 'dedicated-metal-module-box-for-fire-smoke-exhaust-fan', 'dedicated-metal-module-box-for-fire-supplementary-fan', 'deflation-indicator-light', 'electrical-fire-monitoring-line', 'emergency-manual-start-stop-button', 'explosion-proof-smoke-detector', 'fire-broadcasting-line', 'fire-equipment-power-monitoring-line', 'fire-fan-manual-control-line', 'fire-hydrant-button', 'fire-telephone-extension', 'fire-water-pump-manual-control-line', 'gas-spray-audible-and-visual-alarm', 'gun-type-infrared-camera-in-the-basement', 'i-o-module', 'input-module', 'light-display', 'manual-alarm-button-with-fire-telephone-jack', 'manual-automatic-switching-device', 'metal-modular-box', 'normally-open-smoke-exhaust-valve-with-280-operation', 'normally-open-smoke-exhaust-valve-with-70-operation', 'normally-open-smoke-exhaust-valve-with-70-operation-closed-in-case-of-fire', 'pressure-switch-flow-switch-start-pump-line', 'pressure-switch-gas-extinguisher', 'safety-signal-valve', 'secondary-fire-shutter-door-control-box', 'security-video-intercom-door-machine', 'smoke-vent', 'speaker', 'the-electromagnetic-valve', 'video-intercom-card-reader', 'voltage-signal-sensor', 'water-flow-indicator']\n",
      "Number of classes: 41\n",
      "loading Roboflow workspace...\n",
      "loading Roboflow project...\n"
     ]
    },
    {
     "name": "stderr",
     "output_type": "stream",
     "text": [
      "LOCAL_RANK: 0 - CUDA_VISIBLE_DEVICES: [0]\n"
     ]
    },
    {
     "name": "stdout",
     "output_type": "stream",
     "text": [
      "[WARNING] we noticed you are downloading a `yolov8` datasets but you don't have `ultralytics` installed. Roboflow `.deploy` supports only models trained with `ultralytics==8.0.196`, to intall it `pip install ultralytics==8.0.196`.\n",
      "{'name': 'Firefighting Device Detection', 'version': '6', 'model_format': 'yolov8', 'location': '/home/andrewhinh/Desktop/Projects/bobyard/Firefighting-Device-Detection-6'}\n",
      "Labels: ['24V-power-cord', 'acousto-optic-alarm', 'area-display', 'bus-isolation-module', 'coded-smoke-detector', 'coded-temperature-detector', 'dedicated-metal-module-box-for-fire-pump', 'dedicated-metal-module-box-for-fire-smoke-exhaust-fan', 'dedicated-metal-module-box-for-fire-supplementary-fan', 'deflation-indicator-light', 'electrical-fire-monitoring-line', 'emergency-manual-start-stop-button', 'explosion-proof-smoke-detector', 'fire-broadcasting-line', 'fire-equipment-power-monitoring-line', 'fire-fan-manual-control-line', 'fire-hydrant-button', 'fire-telephone-extension', 'fire-water-pump-manual-control-line', 'gas-spray-audible-and-visual-alarm', 'gun-type-infrared-camera-in-the-basement', 'i-o-module', 'input-module', 'light-display', 'manual-alarm-button-with-fire-telephone-jack', 'manual-automatic-switching-device', 'metal-modular-box', 'normally-open-smoke-exhaust-valve-with-280-operation', 'normally-open-smoke-exhaust-valve-with-70-operation', 'normally-open-smoke-exhaust-valve-with-70-operation-closed-in-case-of-fire', 'pressure-switch-flow-switch-start-pump-line', 'pressure-switch-gas-extinguisher', 'safety-signal-valve', 'secondary-fire-shutter-door-control-box', 'security-video-intercom-door-machine', 'smoke-vent', 'speaker', 'the-electromagnetic-valve', 'video-intercom-card-reader', 'voltage-signal-sensor', 'water-flow-indicator']\n",
      "Number of classes: 41\n"
     ]
    },
    {
     "name": "stderr",
     "output_type": "stream",
     "text": [
      "The number of training batches (1) is smaller than the logging interval Trainer(log_every_n_steps=50). Set a lower value for log_every_n_steps if you want to see logs for the training epoch.\n"
     ]
    },
    {
     "data": {
      "application/vnd.jupyter.widget-view+json": {
       "model_id": "926acb88fa37480ba25342d4f0883d2e",
       "version_major": 2,
       "version_minor": 0
      },
      "text/plain": [
       "Finding best initial lr:   0%|          | 0/100 [00:00<?, ?it/s]"
      ]
     },
     "metadata": {},
     "output_type": "display_data"
    },
    {
     "name": "stderr",
     "output_type": "stream",
     "text": [
      "`Trainer.fit` stopped: `max_epochs=5` reached.\n",
      "LR finder stopped early after 5 steps due to diverging loss.\n",
      "Failed to compute suggestion for learning rate because there are not enough points. Increase the loop iteration limits or the size of your dataset/dataloader.\n",
      "Restoring states from the checkpoint path at /home/andrewhinh/Desktop/Projects/bobyard/.lr_find_9fc043a2-e86c-487b-a7c4-b2465f3c6c8a.ckpt\n",
      "Restored all states from the checkpoint at /home/andrewhinh/Desktop/Projects/bobyard/.lr_find_9fc043a2-e86c-487b-a7c4-b2465f3c6c8a.ckpt\n",
      "Failed to compute suggestion for learning rate because there are not enough points. Increase the loop iteration limits or the size of your dataset/dataloader.\n"
     ]
    },
    {
     "name": "stdout",
     "output_type": "stream",
     "text": [
      "loading Roboflow workspace...\n",
      "loading Roboflow project...\n"
     ]
    },
    {
     "name": "stderr",
     "output_type": "stream",
     "text": [
      "LOCAL_RANK: 0 - CUDA_VISIBLE_DEVICES: [0]\n",
      "\n",
      "  | Name              | Type   | Params\n",
      "---------------------------------------------\n",
      "0 | feature_extractor | ResNet | 23.5 M\n",
      "1 | bbox_regressor    | Linear | 409 K \n",
      "2 | classifier        | Linear | 4.3 M \n",
      "---------------------------------------------\n",
      "4.7 M     Trainable params\n",
      "23.5 M    Non-trainable params\n",
      "28.2 M    Total params\n",
      "112.883   Total estimated model params size (MB)\n"
     ]
    },
    {
     "name": "stdout",
     "output_type": "stream",
     "text": [
      "[WARNING] we noticed you are downloading a `yolov8` datasets but you don't have `ultralytics` installed. Roboflow `.deploy` supports only models trained with `ultralytics==8.0.196`, to intall it `pip install ultralytics==8.0.196`.\n",
      "{'name': 'Firefighting Device Detection', 'version': '6', 'model_format': 'yolov8', 'location': '/home/andrewhinh/Desktop/Projects/bobyard/Firefighting-Device-Detection-6'}\n",
      "Labels: ['24V-power-cord', 'acousto-optic-alarm', 'area-display', 'bus-isolation-module', 'coded-smoke-detector', 'coded-temperature-detector', 'dedicated-metal-module-box-for-fire-pump', 'dedicated-metal-module-box-for-fire-smoke-exhaust-fan', 'dedicated-metal-module-box-for-fire-supplementary-fan', 'deflation-indicator-light', 'electrical-fire-monitoring-line', 'emergency-manual-start-stop-button', 'explosion-proof-smoke-detector', 'fire-broadcasting-line', 'fire-equipment-power-monitoring-line', 'fire-fan-manual-control-line', 'fire-hydrant-button', 'fire-telephone-extension', 'fire-water-pump-manual-control-line', 'gas-spray-audible-and-visual-alarm', 'gun-type-infrared-camera-in-the-basement', 'i-o-module', 'input-module', 'light-display', 'manual-alarm-button-with-fire-telephone-jack', 'manual-automatic-switching-device', 'metal-modular-box', 'normally-open-smoke-exhaust-valve-with-280-operation', 'normally-open-smoke-exhaust-valve-with-70-operation', 'normally-open-smoke-exhaust-valve-with-70-operation-closed-in-case-of-fire', 'pressure-switch-flow-switch-start-pump-line', 'pressure-switch-gas-extinguisher', 'safety-signal-valve', 'secondary-fire-shutter-door-control-box', 'security-video-intercom-door-machine', 'smoke-vent', 'speaker', 'the-electromagnetic-valve', 'video-intercom-card-reader', 'voltage-signal-sensor', 'water-flow-indicator']\n",
      "Number of classes: 41\n"
     ]
    },
    {
     "data": {
      "application/vnd.jupyter.widget-view+json": {
       "model_id": "47e66b6e1ecd4698860eb0bd27011a85",
       "version_major": 2,
       "version_minor": 0
      },
      "text/plain": [
       "Sanity Checking: |          | 0/? [00:00<?, ?it/s]"
      ]
     },
     "metadata": {},
     "output_type": "display_data"
    },
    {
     "data": {
      "application/vnd.jupyter.widget-view+json": {
       "model_id": "c0921feb4d2a427b86425bdd8ba1bda4",
       "version_major": 2,
       "version_minor": 0
      },
      "text/plain": [
       "Training: |          | 0/? [00:00<?, ?it/s]"
      ]
     },
     "metadata": {},
     "output_type": "display_data"
    },
    {
     "name": "stderr",
     "output_type": "stream",
     "text": [
      "`Trainer.fit` stopped: `max_epochs=5` reached.\n"
     ]
    },
    {
     "name": "stdout",
     "output_type": "stream",
     "text": [
      "loading Roboflow workspace...\n",
      "loading Roboflow project...\n"
     ]
    },
    {
     "name": "stderr",
     "output_type": "stream",
     "text": [
      "LOCAL_RANK: 0 - CUDA_VISIBLE_DEVICES: [0]\n"
     ]
    },
    {
     "name": "stdout",
     "output_type": "stream",
     "text": [
      "[WARNING] we noticed you are downloading a `yolov8` datasets but you don't have `ultralytics` installed. Roboflow `.deploy` supports only models trained with `ultralytics==8.0.196`, to intall it `pip install ultralytics==8.0.196`.\n",
      "{'name': 'Firefighting Device Detection', 'version': '6', 'model_format': 'yolov8', 'location': '/home/andrewhinh/Desktop/Projects/bobyard/Firefighting-Device-Detection-6'}\n",
      "Labels: ['24V-power-cord', 'acousto-optic-alarm', 'area-display', 'bus-isolation-module', 'coded-smoke-detector', 'coded-temperature-detector', 'dedicated-metal-module-box-for-fire-pump', 'dedicated-metal-module-box-for-fire-smoke-exhaust-fan', 'dedicated-metal-module-box-for-fire-supplementary-fan', 'deflation-indicator-light', 'electrical-fire-monitoring-line', 'emergency-manual-start-stop-button', 'explosion-proof-smoke-detector', 'fire-broadcasting-line', 'fire-equipment-power-monitoring-line', 'fire-fan-manual-control-line', 'fire-hydrant-button', 'fire-telephone-extension', 'fire-water-pump-manual-control-line', 'gas-spray-audible-and-visual-alarm', 'gun-type-infrared-camera-in-the-basement', 'i-o-module', 'input-module', 'light-display', 'manual-alarm-button-with-fire-telephone-jack', 'manual-automatic-switching-device', 'metal-modular-box', 'normally-open-smoke-exhaust-valve-with-280-operation', 'normally-open-smoke-exhaust-valve-with-70-operation', 'normally-open-smoke-exhaust-valve-with-70-operation-closed-in-case-of-fire', 'pressure-switch-flow-switch-start-pump-line', 'pressure-switch-gas-extinguisher', 'safety-signal-valve', 'secondary-fire-shutter-door-control-box', 'security-video-intercom-door-machine', 'smoke-vent', 'speaker', 'the-electromagnetic-valve', 'video-intercom-card-reader', 'voltage-signal-sensor', 'water-flow-indicator']\n",
      "Number of classes: 41\n",
      "Trial 5/5\n",
      "Batch size: 32, Weight decay: 0.0031261535330906398\n",
      "loading Roboflow workspace...\n",
      "loading Roboflow project...\n"
     ]
    },
    {
     "name": "stderr",
     "output_type": "stream",
     "text": [
      "Using bfloat16 Automatic Mixed Precision (AMP)\n",
      "GPU available: True (cuda), used: True\n",
      "TPU available: False, using: 0 TPU cores\n",
      "IPU available: False, using: 0 IPUs\n",
      "HPU available: False, using: 0 HPUs\n"
     ]
    },
    {
     "name": "stdout",
     "output_type": "stream",
     "text": [
      "[WARNING] we noticed you are downloading a `yolov8` datasets but you don't have `ultralytics` installed. Roboflow `.deploy` supports only models trained with `ultralytics==8.0.196`, to intall it `pip install ultralytics==8.0.196`.\n",
      "{'name': 'Firefighting Device Detection', 'version': '6', 'model_format': 'yolov8', 'location': '/home/andrewhinh/Desktop/Projects/bobyard/Firefighting-Device-Detection-6'}\n",
      "Labels: ['24V-power-cord', 'acousto-optic-alarm', 'area-display', 'bus-isolation-module', 'coded-smoke-detector', 'coded-temperature-detector', 'dedicated-metal-module-box-for-fire-pump', 'dedicated-metal-module-box-for-fire-smoke-exhaust-fan', 'dedicated-metal-module-box-for-fire-supplementary-fan', 'deflation-indicator-light', 'electrical-fire-monitoring-line', 'emergency-manual-start-stop-button', 'explosion-proof-smoke-detector', 'fire-broadcasting-line', 'fire-equipment-power-monitoring-line', 'fire-fan-manual-control-line', 'fire-hydrant-button', 'fire-telephone-extension', 'fire-water-pump-manual-control-line', 'gas-spray-audible-and-visual-alarm', 'gun-type-infrared-camera-in-the-basement', 'i-o-module', 'input-module', 'light-display', 'manual-alarm-button-with-fire-telephone-jack', 'manual-automatic-switching-device', 'metal-modular-box', 'normally-open-smoke-exhaust-valve-with-280-operation', 'normally-open-smoke-exhaust-valve-with-70-operation', 'normally-open-smoke-exhaust-valve-with-70-operation-closed-in-case-of-fire', 'pressure-switch-flow-switch-start-pump-line', 'pressure-switch-gas-extinguisher', 'safety-signal-valve', 'secondary-fire-shutter-door-control-box', 'security-video-intercom-door-machine', 'smoke-vent', 'speaker', 'the-electromagnetic-valve', 'video-intercom-card-reader', 'voltage-signal-sensor', 'water-flow-indicator']\n",
      "Number of classes: 41\n",
      "loading Roboflow workspace...\n",
      "loading Roboflow project...\n"
     ]
    },
    {
     "name": "stderr",
     "output_type": "stream",
     "text": [
      "LOCAL_RANK: 0 - CUDA_VISIBLE_DEVICES: [0]\n"
     ]
    },
    {
     "name": "stdout",
     "output_type": "stream",
     "text": [
      "[WARNING] we noticed you are downloading a `yolov8` datasets but you don't have `ultralytics` installed. Roboflow `.deploy` supports only models trained with `ultralytics==8.0.196`, to intall it `pip install ultralytics==8.0.196`.\n",
      "{'name': 'Firefighting Device Detection', 'version': '6', 'model_format': 'yolov8', 'location': '/home/andrewhinh/Desktop/Projects/bobyard/Firefighting-Device-Detection-6'}\n",
      "Labels: ['24V-power-cord', 'acousto-optic-alarm', 'area-display', 'bus-isolation-module', 'coded-smoke-detector', 'coded-temperature-detector', 'dedicated-metal-module-box-for-fire-pump', 'dedicated-metal-module-box-for-fire-smoke-exhaust-fan', 'dedicated-metal-module-box-for-fire-supplementary-fan', 'deflation-indicator-light', 'electrical-fire-monitoring-line', 'emergency-manual-start-stop-button', 'explosion-proof-smoke-detector', 'fire-broadcasting-line', 'fire-equipment-power-monitoring-line', 'fire-fan-manual-control-line', 'fire-hydrant-button', 'fire-telephone-extension', 'fire-water-pump-manual-control-line', 'gas-spray-audible-and-visual-alarm', 'gun-type-infrared-camera-in-the-basement', 'i-o-module', 'input-module', 'light-display', 'manual-alarm-button-with-fire-telephone-jack', 'manual-automatic-switching-device', 'metal-modular-box', 'normally-open-smoke-exhaust-valve-with-280-operation', 'normally-open-smoke-exhaust-valve-with-70-operation', 'normally-open-smoke-exhaust-valve-with-70-operation-closed-in-case-of-fire', 'pressure-switch-flow-switch-start-pump-line', 'pressure-switch-gas-extinguisher', 'safety-signal-valve', 'secondary-fire-shutter-door-control-box', 'security-video-intercom-door-machine', 'smoke-vent', 'speaker', 'the-electromagnetic-valve', 'video-intercom-card-reader', 'voltage-signal-sensor', 'water-flow-indicator']\n",
      "Number of classes: 41\n"
     ]
    },
    {
     "data": {
      "application/vnd.jupyter.widget-view+json": {
       "model_id": "85b03dc91ca94804a8233ac6605098a1",
       "version_major": 2,
       "version_minor": 0
      },
      "text/plain": [
       "Finding best initial lr:   0%|          | 0/100 [00:00<?, ?it/s]"
      ]
     },
     "metadata": {},
     "output_type": "display_data"
    },
    {
     "name": "stderr",
     "output_type": "stream",
     "text": [
      "`Trainer.fit` stopped: `max_epochs=5` reached.\n",
      "LR finder stopped early after 15 steps due to diverging loss.\n",
      "Learning rate set to 1.3182567385564074e-07\n",
      "Restoring states from the checkpoint path at /home/andrewhinh/Desktop/Projects/bobyard/.lr_find_bdb6d11b-4e3c-4819-88a1-aadfe20aa8bf.ckpt\n",
      "Restored all states from the checkpoint at /home/andrewhinh/Desktop/Projects/bobyard/.lr_find_bdb6d11b-4e3c-4819-88a1-aadfe20aa8bf.ckpt\n"
     ]
    },
    {
     "name": "stdout",
     "output_type": "stream",
     "text": [
      "loading Roboflow workspace...\n",
      "loading Roboflow project...\n"
     ]
    },
    {
     "name": "stderr",
     "output_type": "stream",
     "text": [
      "LOCAL_RANK: 0 - CUDA_VISIBLE_DEVICES: [0]\n",
      "\n",
      "  | Name              | Type   | Params\n",
      "---------------------------------------------\n",
      "0 | feature_extractor | ResNet | 23.5 M\n",
      "1 | bbox_regressor    | Linear | 409 K \n",
      "2 | classifier        | Linear | 4.3 M \n",
      "---------------------------------------------\n",
      "4.7 M     Trainable params\n",
      "23.5 M    Non-trainable params\n",
      "28.2 M    Total params\n",
      "112.883   Total estimated model params size (MB)\n"
     ]
    },
    {
     "name": "stdout",
     "output_type": "stream",
     "text": [
      "[WARNING] we noticed you are downloading a `yolov8` datasets but you don't have `ultralytics` installed. Roboflow `.deploy` supports only models trained with `ultralytics==8.0.196`, to intall it `pip install ultralytics==8.0.196`.\n",
      "{'name': 'Firefighting Device Detection', 'version': '6', 'model_format': 'yolov8', 'location': '/home/andrewhinh/Desktop/Projects/bobyard/Firefighting-Device-Detection-6'}\n",
      "Labels: ['24V-power-cord', 'acousto-optic-alarm', 'area-display', 'bus-isolation-module', 'coded-smoke-detector', 'coded-temperature-detector', 'dedicated-metal-module-box-for-fire-pump', 'dedicated-metal-module-box-for-fire-smoke-exhaust-fan', 'dedicated-metal-module-box-for-fire-supplementary-fan', 'deflation-indicator-light', 'electrical-fire-monitoring-line', 'emergency-manual-start-stop-button', 'explosion-proof-smoke-detector', 'fire-broadcasting-line', 'fire-equipment-power-monitoring-line', 'fire-fan-manual-control-line', 'fire-hydrant-button', 'fire-telephone-extension', 'fire-water-pump-manual-control-line', 'gas-spray-audible-and-visual-alarm', 'gun-type-infrared-camera-in-the-basement', 'i-o-module', 'input-module', 'light-display', 'manual-alarm-button-with-fire-telephone-jack', 'manual-automatic-switching-device', 'metal-modular-box', 'normally-open-smoke-exhaust-valve-with-280-operation', 'normally-open-smoke-exhaust-valve-with-70-operation', 'normally-open-smoke-exhaust-valve-with-70-operation-closed-in-case-of-fire', 'pressure-switch-flow-switch-start-pump-line', 'pressure-switch-gas-extinguisher', 'safety-signal-valve', 'secondary-fire-shutter-door-control-box', 'security-video-intercom-door-machine', 'smoke-vent', 'speaker', 'the-electromagnetic-valve', 'video-intercom-card-reader', 'voltage-signal-sensor', 'water-flow-indicator']\n",
      "Number of classes: 41\n"
     ]
    },
    {
     "data": {
      "application/vnd.jupyter.widget-view+json": {
       "model_id": "e6f92322eb6d46dda725f5f9d089c3e6",
       "version_major": 2,
       "version_minor": 0
      },
      "text/plain": [
       "Sanity Checking: |          | 0/? [00:00<?, ?it/s]"
      ]
     },
     "metadata": {},
     "output_type": "display_data"
    },
    {
     "data": {
      "application/vnd.jupyter.widget-view+json": {
       "model_id": "7d58da544e204c0ab6cdbbb5f225ad45",
       "version_major": 2,
       "version_minor": 0
      },
      "text/plain": [
       "Training: |          | 0/? [00:00<?, ?it/s]"
      ]
     },
     "metadata": {},
     "output_type": "display_data"
    },
    {
     "name": "stderr",
     "output_type": "stream",
     "text": [
      "`Trainer.fit` stopped: `max_epochs=5` reached.\n"
     ]
    },
    {
     "name": "stdout",
     "output_type": "stream",
     "text": [
      "loading Roboflow workspace...\n",
      "loading Roboflow project...\n"
     ]
    },
    {
     "name": "stderr",
     "output_type": "stream",
     "text": [
      "LOCAL_RANK: 0 - CUDA_VISIBLE_DEVICES: [0]\n"
     ]
    },
    {
     "name": "stdout",
     "output_type": "stream",
     "text": [
      "[WARNING] we noticed you are downloading a `yolov8` datasets but you don't have `ultralytics` installed. Roboflow `.deploy` supports only models trained with `ultralytics==8.0.196`, to intall it `pip install ultralytics==8.0.196`.\n",
      "{'name': 'Firefighting Device Detection', 'version': '6', 'model_format': 'yolov8', 'location': '/home/andrewhinh/Desktop/Projects/bobyard/Firefighting-Device-Detection-6'}\n",
      "Labels: ['24V-power-cord', 'acousto-optic-alarm', 'area-display', 'bus-isolation-module', 'coded-smoke-detector', 'coded-temperature-detector', 'dedicated-metal-module-box-for-fire-pump', 'dedicated-metal-module-box-for-fire-smoke-exhaust-fan', 'dedicated-metal-module-box-for-fire-supplementary-fan', 'deflation-indicator-light', 'electrical-fire-monitoring-line', 'emergency-manual-start-stop-button', 'explosion-proof-smoke-detector', 'fire-broadcasting-line', 'fire-equipment-power-monitoring-line', 'fire-fan-manual-control-line', 'fire-hydrant-button', 'fire-telephone-extension', 'fire-water-pump-manual-control-line', 'gas-spray-audible-and-visual-alarm', 'gun-type-infrared-camera-in-the-basement', 'i-o-module', 'input-module', 'light-display', 'manual-alarm-button-with-fire-telephone-jack', 'manual-automatic-switching-device', 'metal-modular-box', 'normally-open-smoke-exhaust-valve-with-280-operation', 'normally-open-smoke-exhaust-valve-with-70-operation', 'normally-open-smoke-exhaust-valve-with-70-operation-closed-in-case-of-fire', 'pressure-switch-flow-switch-start-pump-line', 'pressure-switch-gas-extinguisher', 'safety-signal-valve', 'secondary-fire-shutter-door-control-box', 'security-video-intercom-door-machine', 'smoke-vent', 'speaker', 'the-electromagnetic-valve', 'video-intercom-card-reader', 'voltage-signal-sensor', 'water-flow-indicator']\n",
      "Number of classes: 41\n"
     ]
    },
    {
     "data": {
      "image/png": "[encoded data removed]",
      "text/plain": [
       "<Figure size 640x480 with 1 Axes>"
      ]
     },
     "metadata": {},
     "output_type": "display_data"
    },
    {
     "data": {
      "image/png": "[encoded data removed]",
      "text/plain": [
       "<Figure size 640x480 with 1 Axes>"
      ]
     },
     "metadata": {},
     "output_type": "display_data"
    },
    {
     "data": {
      "image/png": "[encoded data removed]",
      "text/plain": [
       "<Figure size 640x480 with 1 Axes>"
      ]
     },
     "metadata": {},
     "output_type": "display_data"
    },
    {
     "data": {
      "image/png": "[encoded data removed]",
      "text/plain": [
       "<Figure size 640x480 with 1 Axes>"
      ]
     },
     "metadata": {},
     "output_type": "display_data"
    },
    {
     "data": {
      "image/png": "[encoded data removed]",
      "text/plain": [
       "<Figure size 640x480 with 1 Axes>"
      ]
     },
     "metadata": {},
     "output_type": "display_data"
    }
   ],
   "source": [
    "# Training\n",
    "\n",
    "import random\n",
    "import math\n",
    "from lightning.pytorch.tuner import Tuner\n",
    "\n",
    "\n",
    "for trial in range(config[\"trials\"]):\n",
    "    bs_unrounded = random.randint(config[\"batch_size\"][0], config[\"batch_size\"][1])\n",
    "    bs = 2 ** round(math.log(bs_unrounded, 2))\n",
    "    wd = 10 ** random.uniform(math.log10(config[\"weight_decay\"][0]), math.log10(config[\"weight_decay\"][1]))\n",
    "    \n",
    "    print(f\"Trial {trial + 1}/{config['trials']}\")\n",
    "    print(f\"Batch size: {bs}, Weight decay: {wd}\")\n",
    "\n",
    "    dm = DetectionDataModule(num_workers=config[\"workers\"], batch_size=bs)\n",
    "    dm.prepare_data()\n",
    "    dm.setup()\n",
    "\n",
    "    model = DetectionModel(simclr_model, dm.num_classes, wd)\n",
    "\n",
    "    trainer = L.Trainer(\n",
    "        precision=\"bf16-mixed\",\n",
    "        max_epochs=config[\"epochs\"],\n",
    "    )\n",
    "    tuner = Tuner(trainer)\n",
    "\n",
    "    lr_finder = tuner.lr_find(model, datamodule=dm)\n",
    "    fig = lr_finder.plot(suggest=True)\n",
    "    fig.show()\n",
    "\n",
    "    trainer.fit(model, datamodule=dm)\n",
    "    trainer.test(model, datamodule=dm)"
   ]
  },
  {
   "cell_type": "code",
   "execution_count": null,
   "metadata": {},
   "outputs": [],
   "source": [
    "%reload_ext tensorboard\n",
    "%tensorboard --logdir=lightning_logs/"
   ]
  }
 ],
 "metadata": {
  "kernelspec": {
   "display_name": "bobyard",
   "language": "python",
   "name": "python3"
  },
  "language_info": {
   "codemirror_mode": {
    "name": "ipython",
    "version": 3
   },
   "file_extension": ".py",
   "mimetype": "text/x-python",
   "name": "python",
   "nbconvert_exporter": "python",
   "pygments_lexer": "ipython3",
   "version": "3.11.4"
  }
 },
 "nbformat": 4,
 "nbformat_minor": 2
}
